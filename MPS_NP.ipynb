{
 "cells": [
  {
   "cell_type": "code",
   "execution_count": 1,
   "metadata": {},
   "outputs": [],
   "source": [
    "import numpy as np"
   ]
  },
  {
   "cell_type": "code",
   "execution_count": 2,
   "metadata": {},
   "outputs": [],
   "source": [
    "D = 512\n",
    "ep = 0.1"
   ]
  },
  {
   "cell_type": "code",
   "execution_count": 3,
   "metadata": {},
   "outputs": [],
   "source": [
    "A = np.random.rand(D,D,2)\n",
    "B = np.random.rand(D,D,2)\n",
    "EAB = np.ones(D)\n",
    "EBA = np.ones(D)\n",
    "L = np.random.rand(D,D)\n",
    "R = np.random.rand(D,D)"
   ]
  },
  {
   "cell_type": "code",
   "execution_count": 4,
   "metadata": {},
   "outputs": [],
   "source": [
    "H = np.reshape([[0.25,0,0,0],[0,-0.25,0.5,0],[0,0.5,-0.25,0],[0,0,0,0.25]],[2,2,2,2])\n",
    "I = np.reshape(np.identity(4),[2,2,2,2])\n",
    "expH = I - 4.*ep*H"
   ]
  },
  {
   "cell_type": "code",
   "execution_count": 5,
   "metadata": {},
   "outputs": [],
   "source": [
    "def d_max(t):\n",
    "    return t/np.max(np.abs(t))"
   ]
  },
  {
   "cell_type": "code",
   "execution_count": 6,
   "metadata": {},
   "outputs": [],
   "source": [
    "def updateAB():\n",
    "    global A,B,EAB,EBA,L,R\n",
    "    EA = A * np.reshape(EBA,[D,1,1]) * np.reshape(EAB,[1,D,1])\n",
    "    EB = B * np.reshape(EAB,[D,1,1]) * np.reshape(EBA,[1,D,1])\n",
    "    REBA = 1./EBA\n",
    "    AB = np.tensordot(EA,EB,[[1],[0]])\n",
    "    HAB = np.tensordot(AB,expH,[[1,3],[0,1]])\n",
    "    U, S, V = np.linalg.svd(np.reshape(np.transpose(HAB,[0,2,1,3]),[2*D,2*D]))\n",
    "    ABnEAB = np.sqrt(S[:D])\n",
    "    ABnA = np.transpose(np.reshape(U[:,:D],[D,2,D])*np.reshape(REBA,[D,1,1]),[0,2,1])\n",
    "    ABnB = np.transpose(np.reshape(V[:D,:],[D,D,2])*np.reshape(REBA,[1,D,1]),[0,1,2])\n",
    "    A, B, EAB = d_max(ABnA), d_max(ABnB), d_max(ABnEAB)"
   ]
  },
  {
   "cell_type": "code",
   "execution_count": 7,
   "metadata": {},
   "outputs": [],
   "source": [
    "def updateBA():\n",
    "    global A,B,EAB,EBA,L,R\n",
    "    EA = A * np.reshape(EBA,[D,1,1]) * np.reshape(EAB,[1,D,1])\n",
    "    EB = B * np.reshape(EAB,[D,1,1]) * np.reshape(EBA,[1,D,1])\n",
    "    REAB = 1./EAB\n",
    "    BA = np.tensordot(EB,EA,[[1],[0]])\n",
    "    HBA = np.tensordot(BA,expH,[[1,3],[0,1]])\n",
    "    U, S, V = np.linalg.svd(np.reshape(np.transpose(HBA,[0,2,1,3]),[2*D,2*D]))\n",
    "    BAnEBA = np.sqrt(S[:D])\n",
    "    BAnB = np.transpose(np.reshape(U[:,:D],[D,2,D])*np.reshape(REAB,[D,1,1]),[0,2,1])\n",
    "    BAnA = np.transpose(np.reshape(V[:D,:],[D,D,2])*np.reshape(REAB,[1,D,1]),[0,1,2])\n",
    "    B, A, EBA = d_max(BAnB), d_max(BAnA), d_max(BAnEBA)"
   ]
  },
  {
   "cell_type": "code",
   "execution_count": 8,
   "metadata": {},
   "outputs": [],
   "source": [
    "def updateLR():\n",
    "    global A,B,EAB,EBA,L,R\n",
    "    EA = A * np.reshape(EBA,[D,1,1]) * np.reshape(EAB,[1,D,1])\n",
    "    EB = B * np.reshape(EAB,[D,1,1]) * np.reshape(EBA,[1,D,1])\n",
    "    LA = np.tensordot(np.tensordot(L,EA,[[1],[0]]),EA,[[0,2],[0,2]])\n",
    "    LAB = np.tensordot(np.tensordot(LA,EB,[[1],[0]]),EB,[[0,2],[0,2]])\n",
    "    BR = np.tensordot(np.tensordot(R,EB,[[1],[1]]),EB,[[0,2],[1,2]])\n",
    "    ABR = np.tensordot(np.tensordot(BR,EA,[[1],[1]]),EA,[[0,2],[1,2]])\n",
    "    L, R = d_max(LAB), d_max(ABR)"
   ]
  },
  {
   "cell_type": "code",
   "execution_count": 9,
   "metadata": {},
   "outputs": [],
   "source": [
    "def get_energy():\n",
    "    global A,B,EAB,EBA,L,R\n",
    "    EA = A * np.reshape(EBA,[D,1,1]) * np.reshape(EAB,[1,D,1])\n",
    "    EB = B * np.reshape(EAB,[D,1,1]) * np.reshape(EBA,[1,D,1])\n",
    "    LA = np.tensordot(L,EA,[[0],[0]])\n",
    "    LAB = np.tensordot(LA,EB,[[1],[0]])\n",
    "    LABR = np.tensordot(LAB,R,[[2],[0]])\n",
    "    LABRA = np.tensordot(LABR,EA,[[0],[0]])\n",
    "    LABRAB = np.tensordot(LABRA,EB,[[3,2],[0,1]])\n",
    "    E_AB = np.tensordot(LABRAB,H,[[0,1,2,3],[0,1,2,3]])/np.tensordot(LABRAB,I,[[0,1,2,3],[0,1,2,3]])\n",
    "\n",
    "    LABA = np.tensordot(LAB,EA,[[2],[0]])\n",
    "    LABAA = np.tensordot(LABA,EA,[[0,1],[0,2]])\n",
    "    LABAAB = np.tensordot(LABAA,EB,[[3],[0]])\n",
    "    LABAABA = np.tensordot(LABAAB,EA,[[3],[0]])\n",
    "    LABAABAB = np.tensordot(LABAABA,EB,[[4],[0]])\n",
    "    LABAABABB = np.tensordot(LABAABAB,EB,[[1,6],[0,2]])\n",
    "    LABAABABBR = np.tensordot(LABAABABB,R,[[5,4],[0,1]])\n",
    "    E_BA = np.tensordot(LABAABABBR,H,[[0,1,2,3],[0,1,2,3]])/np.tensordot(LABAABABBR,I,[[0,1,2,3],[0,1,2,3]])\n",
    "\n",
    "    E = (E_AB+E_BA)/2\n",
    "    return E"
   ]
  },
  {
   "cell_type": "code",
   "execution_count": 10,
   "metadata": {},
   "outputs": [],
   "source": [
    "for _ in xrange(10):\n",
    "    updateAB()\n",
    "    updateBA()\n",
    "    updateBA()\n",
    "    updateAB()\n",
    "for _ in xrange(10):\n",
    "    updateLR()"
   ]
  },
  {
   "cell_type": "code",
   "execution_count": 11,
   "metadata": {},
   "outputs": [
    {
     "name": "stdout",
     "output_type": "stream",
     "text": [
      "0.249974352947\n"
     ]
    }
   ],
   "source": [
    "print get_energy()"
   ]
  },
  {
   "cell_type": "code",
   "execution_count": null,
   "metadata": {},
   "outputs": [],
   "source": []
  }
 ],
 "metadata": {
  "kernelspec": {
   "display_name": "Python 2",
   "language": "python",
   "name": "python2"
  },
  "language_info": {
   "codemirror_mode": {
    "name": "ipython",
    "version": 2
   },
   "file_extension": ".py",
   "mimetype": "text/x-python",
   "name": "python",
   "nbconvert_exporter": "python",
   "pygments_lexer": "ipython2",
   "version": "2.7.13"
  }
 },
 "nbformat": 4,
 "nbformat_minor": 2
}
