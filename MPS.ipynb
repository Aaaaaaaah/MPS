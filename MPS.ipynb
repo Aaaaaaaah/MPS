{
 "cells": [
  {
   "cell_type": "code",
   "execution_count": 1,
   "metadata": {
    "collapsed": true
   },
   "outputs": [],
   "source": [
    "import tensorflow as tf"
   ]
  },
  {
   "cell_type": "code",
   "execution_count": 86,
   "metadata": {
    "collapsed": true
   },
   "outputs": [],
   "source": [
    "D = 4\n",
    "t = -0.0004"
   ]
  },
  {
   "cell_type": "code",
   "execution_count": 87,
   "metadata": {},
   "outputs": [],
   "source": [
    "with tf.name_scope(\"constant\"):\n",
    "    H = tf.reshape(tf.constant([[0.25,0,0,0],[0,-0.25,0.5,0],[0,0.5,-0.25,0],[0,0,0,0.25]]),[2,2,2,2],name=\"Hamiltonian\")\n",
    "    I = tf.reshape(tf.constant([[1.,0,0,0],[0,1,0,0],[0,0,1,0],[0,0,0,1]]),[2,2,2,2],\"Identity\")\n",
    "    expH = I + t * H\n",
    "    Z = tf.zeros(D,name=\"Zeros\")"
   ]
  },
  {
   "cell_type": "code",
   "execution_count": 88,
   "metadata": {
    "collapsed": true
   },
   "outputs": [],
   "source": [
    "with tf.name_scope(\"variables\"):\n",
    "    A = tf.Variable(tf.random_uniform([D, D, 2], minval=-1., maxval=1.),name=\"A\")\n",
    "    B = tf.Variable(tf.random_uniform([D, D, 2], minval=-1., maxval=1.),name=\"B\")\n",
    "    EAB = tf.Variable(tf.ones(D), name=\"EAB\")\n",
    "    EBA = tf.Variable(tf.ones(D), name=\"EBA\")\n",
    "    L = tf.Variable(tf.random_uniform([D, D], minval=-1., maxval=1.),name=\"L\")\n",
    "    R = tf.Variable(tf.random_uniform([D, D], minval=-1., maxval=1.),name=\"R\")\n",
    "    init = tf.global_variables_initializer()"
   ]
  },
  {
   "cell_type": "code",
   "execution_count": 89,
   "metadata": {
    "collapsed": true
   },
   "outputs": [],
   "source": [
    "def update(A,B,EAB,EBA,s):\n",
    "    label = \"%s_H_%s\"%(s[0],s[1])\n",
    "    with tf.name_scope(label):\n",
    "        EBA_A = tf.multiply(tf.reshape(EBA,[D,1,1]),A,name=\"%s_%s\"%(s[3],s[0]))\n",
    "        EBA_A_EAB = tf.multiply(EBA_A,tf.reshape(EAB*EAB,[1,D,1]),name=\"%s_%s_%s\"%(s[3],s[0],s[2]))\n",
    "        B_EBA = tf.multiply(B,tf.reshape(EBA,[1,D,1]),name=\"%s_%s\"%(s[1],s[3]))\n",
    "        A_H = tf.tensordot(EBA_A_EAB,expH,[[2],[0]],name=\"%s_H\"%s[0])\n",
    "        BIG = tf.tensordot(A_H,B_EBA,[[1,2],[0,2]],name=label) # D 2 2 D\n",
    "        S, U, V = tf.svd(tf.reshape(BIG,[2*D,2*D]),name=\"%s_SVD\"%label) # D 2 2D, 2D, 2D 2 D\n",
    "        for p in xrange(4):\n",
    "            tf.summary.scalar(\"s%d\"%p,S[p])\n",
    "        nEAB = tf.sqrt(tf.slice(S,[0],[D],name=\"n%s\"%s[2])) #s[:D]\n",
    "        pre_reci = tf.reciprocal(EBA,name=\"pre_reci\") # D\n",
    "        reci = tf.where(tf.is_inf(pre_reci),Z,pre_reci,name=\"%s_Eviron_Reci\"%label) # D\n",
    "        nA = tf.transpose(tf.multiply(tf.reshape(U[:,:D],[D,2,D]),tf.reshape(reci,[D,1,1])),[0,2,1],name=\"n%s\"%s[0])\n",
    "        nB = tf.transpose(tf.multiply(tf.reshape(V[:D,:],[D,2,D]),tf.reshape(reci,[1,1,D])),[0,2,1],name=\"n%s\"%s[1])\n",
    "        return tf.assign(A,nA/tf.norm(nA)),tf.assign(B,nB/tf.norm(nB)),tf.assign(EAB,nEAB/tf.norm(nEAB))"
   ]
  },
  {
   "cell_type": "code",
   "execution_count": 90,
   "metadata": {},
   "outputs": [],
   "source": [
    "updateAB = update(A,B,EAB,EBA,[\"A\",\"B\",\"EAB\",\"EBA\"])\n",
    "updateBA = update(B,A,EBA,EAB,[\"B\",\"A\",\"EBA\",\"EAB\"])"
   ]
  },
  {
   "cell_type": "code",
   "execution_count": 91,
   "metadata": {
    "collapsed": true
   },
   "outputs": [],
   "source": [
    "with tf.name_scope(\"updateR\"):\n",
    "    RB = tf.tensordot(tf.tensordot(R,B,[[1],[1]]),B,[[0,2],[1,2]],name=\"RB\")\n",
    "    RBE = tf.multiply(tf.multiply(RB,tf.reshape(EAB*EAB,[D,1])),tf.reshape(EAB*EAB,[1,D]),name=\"RBE\")\n",
    "    RBEA = tf.tensordot(tf.tensordot(RBE/tf.norm(RBE),A,[[1],[1]]),A,[[0,2],[1,2]],name=\"RBEA\")\n",
    "    RBEAE = tf.multiply(tf.multiply(RBEA,tf.reshape(EBA*EBA,[D,1])),tf.reshape(EBA*EBA,[1,D]),name=\"RBEAE\")\n",
    "    updateR = tf.assign(R,RBEAE/tf.norm(RBEAE))\n",
    "\n",
    "with tf.name_scope(\"updateL\"):\n",
    "    LA = tf.tensordot(tf.tensordot(L,A,[[1],[0]]),A,[[0,2],[0,2]],name=\"LA\")\n",
    "    LAE = tf.multiply(tf.multiply(LA,tf.reshape(EAB*EAB,[D,1])),tf.reshape(EAB*EAB,[1,D]),name=\"LAE\")\n",
    "    LAEB = tf.tensordot(tf.tensordot(LAE/tf.norm(LAE),B,[[1],[0]]),B,[[0,2],[0,2]],name=\"LAEB\")\n",
    "    LAEBE = tf.multiply(tf.multiply(LAEB,tf.reshape(EBA*EBA,[D,1])),tf.reshape(EBA*EBA,[1,D]),name=\"LAEBE\")\n",
    "    updateL = tf.assign(L,LAEBE/tf.norm(LAEBE))"
   ]
  },
  {
   "cell_type": "code",
   "execution_count": 92,
   "metadata": {},
   "outputs": [],
   "source": [
    "with tf.name_scope(\"Energy\"):\n",
    "    LA = tf.tensordot(L,A,[[0],[0]])\n",
    "    LAE = tf.multiply(LA,tf.reshape(EAB*EAB,[1,D,1]))\n",
    "    LAEB = tf.tensordot(LAE,B,[[1],[0]])\n",
    "    LAEBR = tf.tensordot(LAEB,R,[[2],[0]])\n",
    "    LAEBRA = tf.tensordot(LAEBR,A,[[0],[0]])\n",
    "    LAEBRAE = tf.multiply(LAEBRA,tf.reshape(EAB*EAB,[1,1,1,D,1]))\n",
    "    LAEBRAEB = tf.tensordot(LAEBRAE,B,[[3,2],[0,1]])\n",
    "    E_AB = tf.tensordot(LAEBRAEB,H,[[0,1,2,3],[0,1,2,3]])/tf.tensordot(LAEBRAEB,I,[[0,1,2,3],[0,1,2,3]])"
   ]
  },
  {
   "cell_type": "code",
   "execution_count": 93,
   "metadata": {},
   "outputs": [],
   "source": [
    "E = E_AB\n",
    "tf.summary.scalar(\"E\",E)\n",
    "merged = tf.summary.merge_all()"
   ]
  },
  {
   "cell_type": "code",
   "execution_count": 94,
   "metadata": {},
   "outputs": [],
   "source": [
    "sess = tf.Session()\n",
    "sess.run(init)\n",
    "\n",
    "#if 'NotFirst' not in globals():\n",
    "#    logger = tf.summary.FileWriter(\"/tmp/data/\",sess.graph)\n",
    "#    NotFirst = True"
   ]
  },
  {
   "cell_type": "code",
   "execution_count": 110,
   "metadata": {},
   "outputs": [
    {
     "name": "stdout",
     "output_type": "stream",
     "text": [
      "-0.249915\n"
     ]
    }
   ],
   "source": [
    "for i in xrange(1000):\n",
    "    sess.run(updateAB)\n",
    "    sess.run(updateBA)\n",
    "for i in xrange(1000):\n",
    "    sess.run(updateL)\n",
    "    sess.run(updateR)\n",
    "\n",
    "#logger.flush()\n",
    "print sess.run(E)"
   ]
  },
  {
   "cell_type": "code",
   "execution_count": 111,
   "metadata": {},
   "outputs": [
    {
     "data": {
      "text/plain": [
       "array([ 0.50003141,  0.49999708,  0.49999672,  0.49997491], dtype=float32)"
      ]
     },
     "execution_count": 111,
     "metadata": {},
     "output_type": "execute_result"
    }
   ],
   "source": [
    "sess.run(EAB)"
   ]
  },
  {
   "cell_type": "code",
   "execution_count": 106,
   "metadata": {},
   "outputs": [
    {
     "data": {
      "text/plain": [
       "array([[[  2.47970708e-02,   1.12293929e-01],\n",
       "        [ -5.85012458e-05,  -4.53873813e-01],\n",
       "        [  5.37788355e-06,   1.52556285e-01],\n",
       "        [ -7.82320858e-05,   8.67399797e-02]],\n",
       "\n",
       "       [[  1.31419001e-05,  -2.63868928e-01],\n",
       "        [ -6.91034645e-03,  -6.01418614e-02],\n",
       "        [ -1.39917973e-02,  -1.95644140e-01],\n",
       "        [ -1.05149556e-04,   3.71883035e-01]],\n",
       "\n",
       "       [[  1.58813680e-04,  -2.98597157e-01],\n",
       "        [  1.39360819e-02,  -1.85909241e-01],\n",
       "        [ -6.89862669e-03,  -1.50298610e-01],\n",
       "        [  1.24841303e-04,  -3.21630001e-01]],\n",
       "\n",
       "       [[  3.48392496e-05,   2.79422075e-01],\n",
       "        [ -9.55002834e-05,  -7.28579015e-02],\n",
       "        [ -3.98652337e-05,  -4.07154202e-01],\n",
       "        [  1.69845112e-03,  -2.74454392e-02]]], dtype=float32)"
      ]
     },
     "execution_count": 106,
     "metadata": {},
     "output_type": "execute_result"
    }
   ],
   "source": [
    "sess.run(B)"
   ]
  },
  {
   "cell_type": "code",
   "execution_count": null,
   "metadata": {
    "collapsed": true
   },
   "outputs": [],
   "source": []
  }
 ],
 "metadata": {
  "kernelspec": {
   "display_name": "Python 2",
   "language": "python",
   "name": "python2"
  },
  "language_info": {
   "codemirror_mode": {
    "name": "ipython",
    "version": 2
   },
   "file_extension": ".py",
   "mimetype": "text/x-python",
   "name": "python",
   "nbconvert_exporter": "python",
   "pygments_lexer": "ipython2",
   "version": "2.7.13"
  }
 },
 "nbformat": 4,
 "nbformat_minor": 2
}
