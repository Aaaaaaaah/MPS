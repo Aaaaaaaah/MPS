{
 "cells": [
  {
   "cell_type": "code",
   "execution_count": 1,
   "metadata": {
    "collapsed": true
   },
   "outputs": [],
   "source": [
    "import tensorflow as tf\n",
    "import numpy as np"
   ]
  },
  {
   "cell_type": "code",
   "execution_count": 2,
   "metadata": {
    "collapsed": true
   },
   "outputs": [],
   "source": [
    "D = 512\n",
    "ep = 0.1"
   ]
  },
  {
   "cell_type": "code",
   "execution_count": 3,
   "metadata": {
    "collapsed": true
   },
   "outputs": [],
   "source": [
    "def model(A,B,EAB,EBA,L,R):\n",
    "    \n",
    "    with tf.name_scope(\"constant\"):\n",
    "        H = tf.reshape(tf.constant([[0.25,0,0,0],[0,-0.25,0.5,0],[0,0.5,-0.25,0],[0,0,0,0.25]],\n",
    "                                   dtype=tf.float32),[2,2,2,2],name=\"Hamiltonian\")\n",
    "        I = tf.reshape(tf.constant([[1.,0,0,0],[0,1,0,0],[0,0,1,0],[0,0,0,1]],\n",
    "                                   dtype=tf.float32),[2,2,2,2],name=\"Identity\")\n",
    "        expH = I - 4. * ep * H\n",
    "\n",
    "    with tf.name_scope(\"parameter\"):\n",
    "        REAB = tf.reciprocal(EAB,name=\"REAB\")\n",
    "        REBA = tf.reciprocal(EBA,name=\"REBA\")\n",
    "\n",
    "        EA = tf.multiply(tf.multiply(A,tf.reshape(EBA,[D,1,1])),tf.reshape(EAB,[1,D,1]),name=\"EA\")\n",
    "        EB = tf.multiply(tf.multiply(B,tf.reshape(EAB,[D,1,1])),tf.reshape(EBA,[1,D,1]),name=\"EB\")\n",
    "\n",
    "        AB = tf.tensordot(EA,EB,[[1],[0]],name=\"AB\")\n",
    "        BA = tf.tensordot(EB,EA,[[1],[0]],name=\"BA\")\n",
    "\n",
    "    def d_max(t):\n",
    "        with tf.name_scope(\"d_max\"):\n",
    "            return t/tf.reduce_max(tf.abs(t))\n",
    "\n",
    "    with tf.name_scope(\"updateAB\"):\n",
    "        HAB = tf.tensordot(AB,expH,[[1,3],[0,1]],name=\"HAB\")\n",
    "        S, U, V = tf.svd(tf.reshape(tf.transpose(HAB,[0,2,1,3]),[2*D,2*D]))\n",
    "        ABnEAB = tf.sqrt(S[:D],name=\"nE\")\n",
    "        ABnA = tf.transpose(tf.multiply(tf.reshape(U[:,:D],[D,2,D]),tf.reshape(REBA,[D,1,1])),[0,2,1],name=\"nA\")\n",
    "        ABnB = tf.transpose(tf.multiply(tf.reshape(V[:,:D],[D,2,D]),tf.reshape(REBA,[D,1,1])),[2,0,1],name=\"nB\")\n",
    "\n",
    "    with tf.name_scope(\"updateBA\"):\n",
    "        HBA = tf.tensordot(BA,expH,[[1,3],[0,1]],name=\"HBA\")\n",
    "        S, U, V = tf.svd(tf.reshape(tf.transpose(HBA,[0,2,1,3]),[2*D,2*D]))\n",
    "        BAnEBA = tf.sqrt(S[:D],name=\"nE\")\n",
    "        BAnB = tf.transpose(tf.multiply(tf.reshape(U[:,:D],[D,2,D]),tf.reshape(REAB,[D,1,1])),[0,2,1],name=\"nB\")\n",
    "        BAnA = tf.transpose(tf.multiply(tf.reshape(V[:,:D],[D,2,D]),tf.reshape(REAB,[D,1,1])),[2,0,1],name=\"nA\")\n",
    "\n",
    "    with tf.name_scope(\"updateL\"):\n",
    "        LA = tf.tensordot(tf.tensordot(L,EA,[[1],[0]]),EA,[[0,2],[0,2]],name=\"LA\")\n",
    "        LAB = tf.tensordot(tf.tensordot(LA,EB,[[1],[0]]),EB,[[0,2],[0,2]],name=\"LAB\")\n",
    "\n",
    "    with tf.name_scope(\"updateR\"):\n",
    "        BR = tf.tensordot(tf.tensordot(R,EB,[[1],[1]]),EB,[[0,2],[1,2]],name=\"BR\")\n",
    "        ABR = tf.tensordot(tf.tensordot(BR,EA,[[1],[1]]),EA,[[0,2],[1,2]],name=\"ABR\")\n",
    "\n",
    "    with tf.name_scope(\"Energy\"):\n",
    "        LA = tf.tensordot(L,EA,[[0],[0]])\n",
    "        _LAB = tf.tensordot(LA,EB,[[1],[0]])\n",
    "        LABR = tf.tensordot(_LAB,R,[[2],[0]])\n",
    "        LABRA = tf.tensordot(LABR,EA,[[0],[0]])\n",
    "        LABRAB = tf.tensordot(LABRA,EB,[[3,2],[0,1]])\n",
    "        E_AB = tf.tensordot(LABRAB,H,[[0,1,2,3],[0,1,2,3]])/tf.tensordot(LABRAB,I,[[0,1,2,3],[0,1,2,3]])\n",
    "\n",
    "        LABA = tf.tensordot(_LAB,EA,[[2],[0]])\n",
    "        LABAA = tf.tensordot(LABA,EA,[[0,1],[0,2]])\n",
    "        LABAAB = tf.tensordot(LABAA,EB,[[3],[0]])\n",
    "        LABAABA = tf.tensordot(LABAAB,EA,[[3],[0]])\n",
    "        LABAABAB = tf.tensordot(LABAABA,EB,[[4],[0]])\n",
    "        LABAABABB = tf.tensordot(LABAABAB,EB,[[1,6],[0,2]])\n",
    "        LABAABABBR = tf.tensordot(LABAABABB,R,[[5,4],[0,1]])\n",
    "        E_BA = tf.tensordot(LABAABABBR,H,[[0,1,2,3],[0,1,2,3]])/tf.tensordot(LABAABABBR,I,[[0,1,2,3],[0,1,2,3]])\n",
    "\n",
    "        E = (E_AB+E_BA)/2\n",
    "    \n",
    "    with tf.name_scope(\"d_max\"):\n",
    "        return d_max(ABnA), d_max(ABnB), d_max(ABnEAB), d_max(BAnA), d_max(BAnB), d_max(BAnEBA), d_max(LAB), d_max(ABR), E"
   ]
  },
  {
   "cell_type": "code",
   "execution_count": 4,
   "metadata": {
    "collapsed": true
   },
   "outputs": [],
   "source": [
    "def for_loop_wrap(f):\n",
    "    def __tmp__(i,a):\n",
    "        with tf.name_scope(\"inc\"):\n",
    "            i = i+1\n",
    "        return i,f(*a)\n",
    "    return __tmp__\n",
    "\n",
    "def loop_n(n):\n",
    "    def cond(i,*a):\n",
    "        with tf.name_scope(\"cond\"):\n",
    "            return i<n\n",
    "    return cond\n",
    "\n",
    "@for_loop_wrap\n",
    "def updateABBA(A,B,EAB,EBA,L,R):\n",
    "    with tf.name_scope(\"1AB\"):\n",
    "        A, B, EAB, _, _, _, _, _, _ = model(A,B,EAB,EBA,L,R)\n",
    "    with tf.name_scope(\"2BA\"):\n",
    "        _, _, _, A, B, EBA, _, _, _ = model(A,B,EAB,EBA,L,R)\n",
    "    with tf.name_scope(\"3BA\"):\n",
    "        _, _, _, A, B, EBA, _, _, _ = model(A,B,EAB,EBA,L,R)\n",
    "    with tf.name_scope(\"4AB\"):\n",
    "        A, B, EAB, _, _, _, _, _, _ = model(A,B,EAB,EBA,L,R)\n",
    "    return A,B,EAB,EBA,L,R\n",
    "\n",
    "@for_loop_wrap\n",
    "def updateLR(A,B,EAB,EBA,L,R):\n",
    "    with tf.name_scope(\"updateLR\"):\n",
    "        _, _, _, _, _, _, L, R, _ = model(A,B,EAB,EBA,L,R)\n",
    "    return A,B,EAB,EBA,L,R\n",
    "\n",
    "def get_energy(A,B,EAB,EBA,L,R):\n",
    "    with tf.name_scope(\"get_energy\"):\n",
    "        _, _, _, _, _, _, _, _, E = model(A,B,EAB,EBA,L,R)\n",
    "    return E"
   ]
  },
  {
   "cell_type": "code",
   "execution_count": 5,
   "metadata": {
    "collapsed": true
   },
   "outputs": [],
   "source": [
    "with tf.name_scope(\"init\"):\n",
    "    A = tf.random_normal(shape=[D, D, 2], dtype=tf.float32,name=\"A\")\n",
    "    B = tf.random_normal(shape=[D, D, 2], dtype=tf.float32, name=\"B\")\n",
    "    EAB = tf.ones(shape=[D], dtype=tf.float32, name=\"EAB\")\n",
    "    EBA = tf.ones(shape=[D], dtype=tf.float32, name=\"EBA\")\n",
    "    L = tf.random_normal(shape=[D, D], dtype=tf.float32, name=\"L\")\n",
    "    R = tf.random_normal(shape=[D, D], dtype=tf.float32, name=\"R\")\n",
    "    data = A,B,EAB,EBA,L,R"
   ]
  },
  {
   "cell_type": "code",
   "execution_count": 6,
   "metadata": {
    "collapsed": true
   },
   "outputs": [],
   "source": [
    "_, data = tf.while_loop(loop_n(10),updateABBA,(tf.constant(0),data),name=\"updateABBA_loop\")\n",
    "_, data = tf.while_loop(loop_n(10),updateLR,(tf.constant(0),data),name=\"updateLR_loop\")\n",
    "E = get_energy(*data)"
   ]
  },
  {
   "cell_type": "code",
   "execution_count": 7,
   "metadata": {
    "collapsed": true
   },
   "outputs": [],
   "source": [
    "config = tf.ConfigProto()\n",
    "config.device_count[\"GPU\"] = 1\n",
    "config.gpu_options.allow_growth = True\n",
    "sess = tf.Session(config=config)\n",
    "sess.run(tf.global_variables_initializer())"
   ]
  },
  {
   "cell_type": "code",
   "execution_count": 8,
   "metadata": {
    "scrolled": false
   },
   "outputs": [
    {
     "name": "stdout",
     "output_type": "stream",
     "text": [
      "CPU times: user 16 s, sys: 497 ms, total: 16.5 s\n",
      "Wall time: 16.8 s\n"
     ]
    },
    {
     "data": {
      "text/plain": [
       "-0.49944711"
      ]
     },
     "execution_count": 8,
     "metadata": {},
     "output_type": "execute_result"
    }
   ],
   "source": [
    "%%time\n",
    "sess.run(E)"
   ]
  },
  {
   "cell_type": "code",
   "execution_count": 9,
   "metadata": {
    "collapsed": true
   },
   "outputs": [],
   "source": [
    "# fw = tf.summary.FileWriter(\".\",tf.get_default_graph())"
   ]
  },
  {
   "cell_type": "markdown",
   "metadata": {},
   "source": [
    "fortran : Wall 14.7s, User 79.3s\n",
    "\n",
    "cpu     : Wall 22.6s, User 43.1s\n",
    "\n",
    "gpu     : Wall 16.6s, User 15.9s"
   ]
  }
 ],
 "metadata": {
  "kernelspec": {
   "display_name": "Python 2",
   "language": "python",
   "name": "python2"
  },
  "language_info": {
   "codemirror_mode": {
    "name": "ipython",
    "version": 2
   },
   "file_extension": ".py",
   "mimetype": "text/x-python",
   "name": "python",
   "nbconvert_exporter": "python",
   "pygments_lexer": "ipython2",
   "version": "2.7.13"
  }
 },
 "nbformat": 4,
 "nbformat_minor": 2
}
