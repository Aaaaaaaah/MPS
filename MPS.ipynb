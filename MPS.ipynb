{
 "cells": [
  {
   "cell_type": "code",
   "execution_count": 80,
   "metadata": {
    "collapsed": true
   },
   "outputs": [],
   "source": [
    "import tensorflow as tf"
   ]
  },
  {
   "cell_type": "code",
   "execution_count": 81,
   "metadata": {
    "collapsed": true
   },
   "outputs": [],
   "source": [
    "D = 8\n",
    "t = -0.0004"
   ]
  },
  {
   "cell_type": "code",
   "execution_count": 82,
   "metadata": {},
   "outputs": [],
   "source": [
    "with tf.name_scope(\"constant\"):\n",
    "    H = tf.reshape(tf.constant([[0.25,0,0,0],[0,-0.25,0.5,0],[0,0.5,-0.25,0],[0,0,0,0.25]]),[2,2,2,2],name=\"Hamiltonian\")\n",
    "    I = tf.reshape(tf.constant([[1.,0,0,0],[0,1,0,0],[0,0,1,0],[0,0,0,1]]),[2,2,2,2],\"Identity\")\n",
    "    expH = I + t * H\n",
    "    Z = tf.zeros(D,name=\"Zeros\")"
   ]
  },
  {
   "cell_type": "code",
   "execution_count": 83,
   "metadata": {
    "collapsed": true
   },
   "outputs": [],
   "source": [
    "with tf.name_scope(\"variables\"):\n",
    "    A = tf.Variable(tf.random_uniform([D, D, 2], minval=-1., maxval=1.),name=\"A\")\n",
    "    B = tf.Variable(tf.random_uniform([D, D, 2], minval=-1., maxval=1.),name=\"B\")\n",
    "    EAB = tf.Variable(tf.ones(D), name=\"EAB\")\n",
    "    EBA = tf.Variable(tf.ones(D), name=\"EBA\")\n",
    "    L = tf.Variable(tf.random_uniform([D, D], minval=-1., maxval=1.),name=\"L\")\n",
    "    R = tf.Variable(tf.random_uniform([D, D], minval=-1., maxval=1.),name=\"R\")\n",
    "    init = tf.global_variables_initializer()"
   ]
  },
  {
   "cell_type": "code",
   "execution_count": 84,
   "metadata": {
    "collapsed": true
   },
   "outputs": [],
   "source": [
    "def update(A,B,EAB,EBA,s):\n",
    "    label = \"%s_H_%s\"%(s[0],s[1])\n",
    "    with tf.name_scope(label):\n",
    "        EBA_A = tf.multiply(tf.reshape(EBA,[D,1,1]),A,name=\"%s_%s\"%(s[3],s[0]))\n",
    "        EBA_A_EAB = tf.multiply(EBA_A,tf.reshape(EAB,[1,D,1]),name=\"%s_%s_%s\"%(s[3],s[0],s[2]))\n",
    "        B_EBA = tf.multiply(B,tf.reshape(EBA,[1,D,1]),name=\"%s_%s\"%(s[1],s[3]))\n",
    "        A_H = tf.tensordot(EBA_A_EAB,expH,[[2],[0]],name=\"%s_H\"%s[0])\n",
    "        BIG = tf.tensordot(A_H,B_EBA,[[1,2],[0,2]],name=label) # D 2 2 D\n",
    "        S, U, V = tf.svd(tf.reshape(BIG,[2*D,2*D]),name=\"%s_SVD\"%label) # D 2 2D, 2D, 2D 2 D\n",
    "        for p in xrange(4):\n",
    "            tf.summary.scalar(\"s%d\"%p,S[p])\n",
    "        nEAB = tf.slice(S,[0],[D],name=\"n%s\"%s[2]) #s[:D]\n",
    "        pre_reci = tf.reciprocal(EBA,name=\"pre_reci\") # D\n",
    "        reci = tf.where(tf.is_inf(pre_reci),Z,pre_reci,name=\"%s_Eviron_Reci\"%label) # D\n",
    "        nA = tf.transpose(tf.multiply(tf.reshape(U[:,:D],[D,2,D]),tf.reshape(reci,[D,1,1])),[0,2,1],name=\"n%s\"%s[0])\n",
    "        nB = tf.transpose(tf.multiply(tf.reshape(V[:D,:],[D,2,D]),tf.reshape(reci,[1,1,D])),[0,2,1],name=\"n%s\"%s[1])\n",
    "        return tf.assign(A,nA),tf.assign(B,nB),tf.assign(EAB,nEAB)"
   ]
  },
  {
   "cell_type": "code",
   "execution_count": 85,
   "metadata": {
    "collapsed": true
   },
   "outputs": [],
   "source": [
    "def normer():\n",
    "    with tf.name_scope(\"Normer\"):\n",
    "        nA = A/tf.norm(A)\n",
    "        nB = B/tf.norm(B)\n",
    "        nEAB = EAB/tf.norm(EAB)\n",
    "        nEBA = EBA/tf.norm(EBA)\n",
    "        return tf.assign(A,nA),tf.assign(B,nB),tf.assign(EAB,nEAB),tf.assign(EBA,nEBA)"
   ]
  },
  {
   "cell_type": "code",
   "execution_count": 86,
   "metadata": {
    "collapsed": true
   },
   "outputs": [],
   "source": [
    "updateAB = update(A,B,EAB,EBA,[\"A\",\"B\",\"EAB\",\"EBA\"])\n",
    "updateBA = update(B,A,EBA,EAB,[\"B\",\"A\",\"EBA\",\"EAB\"])\n",
    "normerize = normer()"
   ]
  },
  {
   "cell_type": "code",
   "execution_count": 87,
   "metadata": {
    "collapsed": true
   },
   "outputs": [],
   "source": [
    "with tf.name_scope(\"updateR\"):\n",
    "    RB = tf.tensordot(tf.tensordot(R,B,[[1],[1]]),B,[[0,2],[1,2]],name=\"RB\")\n",
    "    RBE = tf.multiply(tf.multiply(RB,tf.reshape(EAB,[D,1])),tf.reshape(EAB,[1,D]),name=\"RBE\")\n",
    "    RBEA = tf.tensordot(tf.tensordot(RBE/tf.norm(RBE),A,[[1],[1]]),A,[[0,2],[1,2]],name=\"RBEA\")\n",
    "    RBEAE = tf.multiply(tf.multiply(RBEA,tf.reshape(EBA,[D,1])),tf.reshape(EBA,[1,D]),name=\"RBEAE\")\n",
    "    updateR = tf.assign(R,RBEAE/tf.norm(RBEAE))\n",
    "\n",
    "with tf.name_scope(\"updateL\"):\n",
    "    LA = tf.tensordot(tf.tensordot(L,A,[[1],[0]]),A,[[0,2],[0,2]],name=\"RA\")\n",
    "    LAE = tf.multiply(tf.multiply(LA,tf.reshape(EAB,[D,1])),tf.reshape(EAB,[1,D]),name=\"RAE\")\n",
    "    LAEB = tf.tensordot(tf.tensordot(LAE/tf.norm(LAE),B,[[1],[0]]),B,[[0,2],[0,2]],name=\"RAEB\")\n",
    "    LAEBE = tf.multiply(tf.multiply(LAEB,tf.reshape(EBA,[D,1])),tf.reshape(EBA,[1,D]),name=\"RAEBE\")\n",
    "    updateL = tf.assign(L,LAEBE/tf.norm(LAEBE))"
   ]
  },
  {
   "cell_type": "code",
   "execution_count": 88,
   "metadata": {
    "collapsed": true
   },
   "outputs": [],
   "source": [
    "with tf.name_scope(\"Energy\"):\n",
    "    E_A = tf.multiply(A,tf.reshape(EAB,[1,D,1]),name=\"E_A\")\n",
    "    H_LA = tf.tensordot(tf.tensordot(L,E_A,[[0],[0]]),E_A,[[0],[0]],name=\"H_LA\")\n",
    "    H_LAH = tf.tensordot(H_LA,H,[[1,3],[0,2]],name=\"H_LAH\")\n",
    "    H_LAHB = tf.tensordot(tf.tensordot(H_LAH,B,[[0,2],[0,2]]),B,[[0,1],[0,2]],name=\"H_LAHB\")\n",
    "    H_LAHBR = tf.tensordot(H_LAHB,R,[[0,1],[0,1]],name=\"H_LAHBR\")\n",
    "    I_LA = tf.tensordot(tf.tensordot(L,E_A,[[0],[0]]),E_A,[[0,2],[0,2]],name=\"I_LA\")\n",
    "    I_LAB = tf.tensordot(tf.tensordot(I_LA,B,[[0],[0]]),B,[[0,2],[0,2]],name=\"I_LAB\")\n",
    "    I_LABR = tf.tensordot(I_LAB,R,[[0,1],[0,1]],name=\"I_LAHBR\")"
   ]
  },
  {
   "cell_type": "code",
   "execution_count": 89,
   "metadata": {
    "collapsed": true
   },
   "outputs": [],
   "source": [
    "E = H_LAHBR/I_LABR\n",
    "tf.summary.scalar(\"E\",E)\n",
    "merged = tf.summary.merge_all()"
   ]
  },
  {
   "cell_type": "code",
   "execution_count": 93,
   "metadata": {},
   "outputs": [],
   "source": [
    "sess = tf.Session()\n",
    "sess.run(init)\n",
    "\n",
    "if 'NotFirst' not in globals():\n",
    "    logger = tf.summary.FileWriter(\"/tmp/data/\",sess.graph)\n",
    "    NotFirst = True"
   ]
  },
  {
   "cell_type": "code",
   "execution_count": 95,
   "metadata": {},
   "outputs": [
    {
     "name": "stdout",
     "output_type": "stream",
     "text": [
      "-0.794196\n",
      "0.102593\n",
      "0.05218\n",
      "-0.0482624\n",
      "0.0875057\n",
      "0.044019\n",
      "0.070547\n",
      "0.0797925\n",
      "0.136654\n",
      "0.0300604\n"
     ]
    }
   ],
   "source": [
    "for i in xrange(1000):\n",
    "    sess.run(updateAB)\n",
    "    sess.run(normerize)\n",
    "    sess.run(updateBA)\n",
    "    sess.run(normerize)\n",
    "    sess.run(updateL)\n",
    "    sess.run(updateR)\n",
    "    logger.add_summary(sess.run(merged),i)\n",
    "    if i%100 == 0:\n",
    "        print sess.run(E)\n",
    "\n",
    "logger.flush()"
   ]
  },
  {
   "cell_type": "code",
   "execution_count": 186,
   "metadata": {
    "collapsed": true
   },
   "outputs": [],
   "source": [
    "sess.run(init)"
   ]
  },
  {
   "cell_type": "code",
   "execution_count": 187,
   "metadata": {},
   "outputs": [
    {
     "name": "stdout",
     "output_type": "stream",
     "text": [
      "-0.743449\n",
      "0.122053\n",
      "-0.164869\n",
      "-0.0286858\n",
      "-0.0468837\n",
      "-0.0196127\n",
      "-0.0205023\n",
      "-0.0130769\n",
      "-0.0126736\n",
      "-0.011278\n",
      "-0.0111621\n",
      "-0.0109079\n",
      "-0.010848\n",
      "-0.010787\n",
      "-0.0107649\n",
      "-0.0107517\n",
      "-0.0107466\n",
      "-0.0107441\n",
      "-0.010743\n",
      "-0.0107424\n"
     ]
    }
   ],
   "source": [
    "for i in xrange(20):\n",
    "    sess.run(updateL)\n",
    "    sess.run(updateR)\n",
    "    print sess.run(E)"
   ]
  },
  {
   "cell_type": "code",
   "execution_count": null,
   "metadata": {
    "collapsed": true
   },
   "outputs": [],
   "source": []
  }
 ],
 "metadata": {
  "kernelspec": {
   "display_name": "Python 2",
   "language": "python",
   "name": "python2"
  },
  "language_info": {
   "codemirror_mode": {
    "name": "ipython",
    "version": 2
   },
   "file_extension": ".py",
   "mimetype": "text/x-python",
   "name": "python",
   "nbconvert_exporter": "python",
   "pygments_lexer": "ipython2",
   "version": "2.7.13"
  }
 },
 "nbformat": 4,
 "nbformat_minor": 2
}
