{
 "cells": [
  {
   "cell_type": "code",
   "execution_count": 1,
   "metadata": {
    "collapsed": true
   },
   "outputs": [],
   "source": [
    "import tensorflow as tf"
   ]
  },
  {
   "cell_type": "code",
   "execution_count": 2,
   "metadata": {
    "collapsed": true
   },
   "outputs": [],
   "source": [
    "D = 256"
   ]
  },
  {
   "cell_type": "code",
   "execution_count": 3,
   "metadata": {
    "collapsed": true
   },
   "outputs": [],
   "source": [
    "with tf.name_scope(\"constant\"):\n",
    "    t = tf.placeholder(tf.float64, shape=())\n",
    "    H = tf.reshape(tf.constant([[0.25,0,0,0],[0,-0.25,0.5,0],[0,0.5,-0.25,0],[0,0,0,0.25]],dtype=tf.float64),[2,2,2,2],name=\"Hamiltonian\")\n",
    "    I = tf.reshape(tf.constant([[1.,0,0,0],[0,1,0,0],[0,0,1,0],[0,0,0,1]],dtype=tf.float64),[2,2,2,2],name=\"Identity\")\n",
    "    expH = I + t * H\n",
    "    Z = tf.zeros(D,name=\"Zeros\",dtype=tf.float64)"
   ]
  },
  {
   "cell_type": "code",
   "execution_count": 4,
   "metadata": {
    "collapsed": true
   },
   "outputs": [],
   "source": [
    "with tf.name_scope(\"variables\"):\n",
    "    A = tf.Variable(tf.random_uniform([D, D, 2], minval=-1., maxval=1.,dtype=tf.float64),name=\"A\")\n",
    "    B = tf.Variable(tf.random_uniform([D, D, 2], minval=-1., maxval=1.,dtype=tf.float64),name=\"B\")\n",
    "    EAB = tf.Variable(tf.ones(D,dtype=tf.float64), name=\"EAB\")\n",
    "    EBA = tf.Variable(tf.ones(D,dtype=tf.float64), name=\"EBA\")\n",
    "    L = tf.Variable(tf.random_uniform([D, D], minval=-1., maxval=1.,dtype=tf.float64),name=\"L\")\n",
    "    R = tf.Variable(tf.random_uniform([D, D], minval=-1., maxval=1.,dtype=tf.float64),name=\"R\")\n",
    "    init = tf.global_variables_initializer()"
   ]
  },
  {
   "cell_type": "code",
   "execution_count": 5,
   "metadata": {
    "collapsed": true
   },
   "outputs": [],
   "source": [
    "def update(A,B,EAB,EBA,s):\n",
    "    label = \"%s_H_%s\"%(s[0],s[1])\n",
    "    with tf.name_scope(label):\n",
    "        EBA_A = tf.multiply(tf.reshape(EBA,[D,1,1]),A,name=\"%s_%s\"%(s[3],s[0]))\n",
    "        EBA_A_EAB = tf.multiply(EBA_A,tf.reshape(EAB*EAB,[1,D,1]),name=\"%s_%s_%s\"%(s[3],s[0],s[2]))\n",
    "        EBA_A_EAB_B = tf.tensordot(EBA_A_EAB,B,[[1],[0]],name=\"%s_%s_%s_%s\"%(s[3],s[0],s[2],s[1]))\n",
    "        EBA_A_EAB_B_EBA = tf.multiply(EBA_A_EAB_B,tf.reshape(EBA,[1,1,D,1]))\n",
    "        BIG = tf.transpose(tf.tensordot(EBA_A_EAB_B_EBA,expH,[[1,3],[0,1]]),[0,2,1,3],name=label)\n",
    "        S, U, V = tf.svd(tf.reshape(BIG,[2*D,2*D]),name=\"%s_SVD\"%label)\n",
    "        nEAB = tf.sqrt(tf.slice(S,[0],[D]),name=\"n%s\"%s[2]) #s[:D]\n",
    "        pre_reci = tf.reciprocal(EBA,name=\"pre_reci\") # D\n",
    "        reci= pre_reci\n",
    "        #reci = tf.where(tf.is_inf(pre_reci),Z,pre_reci,name=\"%s_Eviron_Reci\"%label) # D\n",
    "        nA = tf.transpose(tf.multiply(tf.reshape(U[:,:D],[D,2,D]),tf.reshape(reci,[D,1,1])),[0,2,1],name=\"n%s\"%s[0])\n",
    "        nB = tf.transpose(tf.multiply(tf.reshape(V[:,:D],[D,2,D]),tf.reshape(reci,[D,1,1])),[2,0,1],name=\"n%s\"%s[1])\n",
    "        return tf.assign(A,nA/tf.norm(nA)),tf.assign(B,nB/tf.norm(nB)),tf.assign(EAB,nEAB/tf.norm(nEAB))"
   ]
  },
  {
   "cell_type": "code",
   "execution_count": 6,
   "metadata": {
    "collapsed": true
   },
   "outputs": [],
   "source": [
    "updateAB = update(A,B,EAB,EBA,[\"A\",\"B\",\"EAB\",\"EBA\"])\n",
    "updateBA = update(B,A,EBA,EAB,[\"B\",\"A\",\"EBA\",\"EAB\"])"
   ]
  },
  {
   "cell_type": "code",
   "execution_count": 7,
   "metadata": {
    "collapsed": true
   },
   "outputs": [],
   "source": [
    "with tf.name_scope(\"updateR\"):\n",
    "    RB = tf.tensordot(tf.tensordot(R,B,[[1],[1]]),B,[[0,2],[1,2]],name=\"RB\")\n",
    "    RBE = tf.multiply(tf.multiply(RB,tf.reshape(EAB*EAB,[D,1])),tf.reshape(EAB*EAB,[1,D]),name=\"RBE\")\n",
    "    RBEA = tf.tensordot(tf.tensordot(RBE/tf.norm(RBE),A,[[1],[1]]),A,[[0,2],[1,2]],name=\"RBEA\")\n",
    "    RBEAE = tf.multiply(tf.multiply(RBEA,tf.reshape(EBA*EBA,[D,1])),tf.reshape(EBA*EBA,[1,D]),name=\"RBEAE\")\n",
    "    updateR = tf.assign(R,RBEAE/tf.norm(RBEAE))\n",
    "\n",
    "with tf.name_scope(\"updateL\"):\n",
    "    LA = tf.tensordot(tf.tensordot(L,A,[[1],[0]]),A,[[0,2],[0,2]],name=\"LA\")\n",
    "    LAE = tf.multiply(tf.multiply(LA,tf.reshape(EAB*EAB,[D,1])),tf.reshape(EAB*EAB,[1,D]),name=\"LAE\")\n",
    "    LAEB = tf.tensordot(tf.tensordot(LAE/tf.norm(LAE),B,[[1],[0]]),B,[[0,2],[0,2]],name=\"LAEB\")\n",
    "    LAEBE = tf.multiply(tf.multiply(LAEB,tf.reshape(EBA*EBA,[D,1])),tf.reshape(EBA*EBA,[1,D]),name=\"LAEBE\")\n",
    "    updateL = tf.assign(L,LAEBE/tf.norm(LAEBE))"
   ]
  },
  {
   "cell_type": "code",
   "execution_count": 8,
   "metadata": {
    "collapsed": true
   },
   "outputs": [],
   "source": [
    "with tf.name_scope(\"Energy\"):\n",
    "    LA = tf.tensordot(L,A,[[0],[0]])\n",
    "    LAE = tf.multiply(LA,tf.reshape(EAB*EAB,[1,D,1]))\n",
    "    LAEB = tf.tensordot(LAE,B,[[1],[0]])\n",
    "    LAEBR = tf.tensordot(LAEB,R,[[2],[0]])\n",
    "    LAEBRA = tf.tensordot(LAEBR,A,[[0],[0]])\n",
    "    LAEBRAE = tf.multiply(LAEBRA,tf.reshape(EAB*EAB,[1,1,1,D,1]))\n",
    "    LAEBRAEB = tf.tensordot(LAEBRAE,B,[[3,2],[0,1]])\n",
    "    E_AB = tf.tensordot(LAEBRAEB,H,[[0,1,2,3],[0,1,2,3]])/tf.tensordot(LAEBRAEB,I,[[0,1,2,3],[0,1,2,3]])\n",
    "    \n",
    "    LAEBE = tf.multiply(LAEB,tf.reshape(EBA*EBA,[1,1,D,1]))\n",
    "    LAEBEA = tf.tensordot(LAEBE,A,[[2],[0]])\n",
    "    LAEBEAE = tf.multiply(LAEBEA,tf.reshape(EAB*EAB,[1,1,1,D,1]))\n",
    "    LAEBEAEA = tf.tensordot(LAEBEAE,A,[[0,1],[0,2]])\n",
    "    LAEBEAEAE = tf.multiply(LAEBEAEA,tf.reshape(EAB*EAB,[1,1,1,D]))\n",
    "    LAEBEAEAEB = tf.tensordot(LAEBEAEAE,B,[[3],[0]])\n",
    "    LAEBEAEAEBE = tf.multiply(LAEBEAEAEB,tf.reshape(EBA*EBA,[1,1,1,D,1]))\n",
    "    LAEBEAEAEBEA = tf.tensordot(LAEBEAEAEBE,A,[[3],[0]])\n",
    "    LAEBEAEAEBEAE = tf.multiply(LAEBEAEAEBEA,tf.reshape(EAB*EAB,[1,1,1,1,D,1]))\n",
    "    LAEBEAEAEBEAEB = tf.tensordot(LAEBEAEAEBEAE,B,[[4],[0]])\n",
    "    LAEBEAEAEBEAEBB = tf.tensordot(LAEBEAEAEBEAEB,B,[[1,6],[0,2]])\n",
    "    LAEBEAEAEBEAEBBR = tf.tensordot(LAEBEAEAEBEAEBB,R,[[5,4],[0,1]])\n",
    "    E_BA = tf.tensordot(LAEBEAEAEBEAEBBR,H,[[0,1,2,3],[0,1,2,3]])/tf.tensordot(LAEBEAEAEBEAEBBR,I,[[0,1,2,3],[0,1,2,3]])\n",
    "    \n",
    "    E = (E_AB+E_BA)/2\n",
    "    \n",
    "    tf.summary.scalar('E', E)"
   ]
  },
  {
   "cell_type": "code",
   "execution_count": 9,
   "metadata": {
    "collapsed": true
   },
   "outputs": [],
   "source": [
    "sess = tf.Session(config=tf.ConfigProto(\n",
    "    device_count={'CPU': 8, 'GPU': 1},\n",
    "    log_device_placement=True\n",
    "    #intra_op_parallelism_threads=8,\n",
    "    #inter_op_parallelism_threads=8\n",
    "))\n",
    "sess.run(init)\n",
    "merged = tf.summary.merge_all()\n",
    "logger = tf.summary.FileWriter('/tmp/data/%d'%D,sess.graph)\n",
    "tt = 0"
   ]
  },
  {
   "cell_type": "code",
   "execution_count": 10,
   "metadata": {},
   "outputs": [
    {
     "name": "stdout",
     "output_type": "stream",
     "text": [
      "-0.474820219515\n",
      "CPU times: user 7.02 s, sys: 403 ms, total: 7.42 s\n",
      "Wall time: 7.52 s\n"
     ]
    }
   ],
   "source": [
    "%%time\n",
    "ep = 0.1\n",
    "for i in xrange(1):\n",
    "    for j in xrange(10):\n",
    "        sess.run(updateAB,feed_dict={t: -4*ep})\n",
    "        sess.run(updateBA,feed_dict={t: -4*ep})\n",
    "        sess.run(updateBA,feed_dict={t: -4*ep})\n",
    "        sess.run(updateAB,feed_dict={t: -4*ep})\n",
    "        sess.run((updateL,updateR))\n",
    "    logger.add_summary(sess.run(merged), tt)\n",
    "    tt += 1\n",
    "\n",
    "logger.flush()\n",
    "print sess.run(E)"
   ]
  },
  {
   "cell_type": "code",
   "execution_count": null,
   "metadata": {
    "collapsed": true
   },
   "outputs": [],
   "source": []
  }
 ],
 "metadata": {
  "kernelspec": {
   "display_name": "Python 2",
   "language": "python",
   "name": "python2"
  },
  "language_info": {
   "codemirror_mode": {
    "name": "ipython",
    "version": 2
   },
   "file_extension": ".py",
   "mimetype": "text/x-python",
   "name": "python",
   "nbconvert_exporter": "python",
   "pygments_lexer": "ipython2",
   "version": "2.7.13"
  }
 },
 "nbformat": 4,
 "nbformat_minor": 2
}
