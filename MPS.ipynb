{
 "cells": [
  {
   "cell_type": "code",
   "execution_count": 1,
   "metadata": {
    "collapsed": true
   },
   "outputs": [],
   "source": [
    "import tensorflow as tf"
   ]
  },
  {
   "cell_type": "code",
   "execution_count": 2,
   "metadata": {
    "collapsed": true
   },
   "outputs": [],
   "source": [
    "D = 8"
   ]
  },
  {
   "cell_type": "code",
   "execution_count": 3,
   "metadata": {
    "collapsed": true
   },
   "outputs": [],
   "source": [
    "with tf.name_scope(\"constant\"):\n",
    "    t = tf.placeholder(tf.float64, shape=())\n",
    "    H = tf.reshape(tf.constant([[0.25,0,0,0],[0,-0.25,0.5,0],[0,0.5,-0.25,0],[0,0,0,0.25]],dtype=tf.float64),[2,2,2,2],name=\"Hamiltonian\")\n",
    "    I = tf.reshape(tf.constant([[1.,0,0,0],[0,1,0,0],[0,0,1,0],[0,0,0,1]],dtype=tf.float64),[2,2,2,2],name=\"Identity\")\n",
    "    expH = I + t * H"
   ]
  },
  {
   "cell_type": "code",
   "execution_count": 4,
   "metadata": {},
   "outputs": [],
   "source": [
    "with tf.name_scope(\"variables\"):\n",
    "    A = tf.Variable(tf.random_uniform([D, D, 2], minval=-1., maxval=1.,dtype=tf.float64),name=\"A\")\n",
    "    B = tf.Variable(tf.random_uniform([D, D, 2], minval=-1., maxval=1.,dtype=tf.float64),name=\"B\")\n",
    "    EAB = tf.Variable(tf.ones(D,dtype=tf.float64), name=\"EAB\")\n",
    "    EBA = tf.Variable(tf.ones(D,dtype=tf.float64), name=\"EBA\")\n",
    "    L = tf.Variable(tf.random_uniform([D, D], minval=-1., maxval=1.,dtype=tf.float64),name=\"L\")\n",
    "    R = tf.Variable(tf.random_uniform([D, D], minval=-1., maxval=1.,dtype=tf.float64),name=\"R\")\n",
    "    \n",
    "    sA = tf.Variable(A, name=\"sA\")\n",
    "    sB = tf.Variable(B, name=\"sB\")\n",
    "    sEAB = tf.Variable(EAB, name=\"sEAB\")\n",
    "    sEBA = tf.Variable(EBA, name=\"sEBA\")\n",
    "    sL = tf.Variable(L, name=\"sL\")\n",
    "    sR = tf.Variable(R, name=\"sR\")\n",
    "    \n",
    "    init = tf.global_variables_initializer()"
   ]
  },
  {
   "cell_type": "code",
   "execution_count": 5,
   "metadata": {
    "collapsed": true
   },
   "outputs": [],
   "source": [
    "with tf.name_scope(\"parameter\"):\n",
    "    REAB = tf.reciprocal(EAB,name=\"REAB\")\n",
    "    REBA = tf.reciprocal(EBA,name=\"REBA\")\n",
    "    \n",
    "    EA = tf.multiply(tf.multiply(A,tf.reshape(EBA,[D,1,1])),tf.reshape(EAB,[1,D,1]),name=\"EA\")\n",
    "    EB = tf.multiply(tf.multiply(B,tf.reshape(EAB,[D,1,1])),tf.reshape(EBA,[1,D,1]),name=\"EB\")\n",
    "    \n",
    "    AB = tf.tensordot(EA,EB,[[1],[0]],name=\"AB\")\n",
    "    BA = tf.tensordot(EB,EA,[[1],[0]],name=\"BA\")\n",
    "    \n",
    "    HAB = tf.tensordot(AB,expH,[[1,3],[0,1]],name=\"HAB\")\n",
    "    HBA = tf.tensordot(BA,expH,[[1,3],[0,1]],name=\"HBA\")\n",
    "    \n",
    "    LA = tf.tensordot(tf.tensordot(L,EA,[[1],[0]]),EA,[[0,2],[0,2]],name=\"LA\")\n",
    "    LAB = tf.tensordot(tf.tensordot(LA,EB,[[1],[0]]),EB,[[0,2],[0,2]],name=\"LAB\")\n",
    "    \n",
    "    BR = tf.tensordot(tf.tensordot(R,EB,[[1],[1]]),EB,[[0,2],[1,2]],name=\"BR\")\n",
    "    ABR = tf.tensordot(tf.tensordot(BR,EA,[[1],[1]]),EA,[[0,2],[1,2]],name=\"ABR\")"
   ]
  },
  {
   "cell_type": "code",
   "execution_count": 6,
   "metadata": {},
   "outputs": [],
   "source": [
    "with tf.name_scope(\"updateAB\"):\n",
    "    S, U, V = tf.svd(tf.reshape(tf.transpose(HAB,[0,2,1,3]),[2*D,2*D]))\n",
    "    ABnEAB = tf.sqrt(S[:D],name=\"nE\")\n",
    "    ABnA = tf.transpose(tf.multiply(tf.reshape(U[:,:D],[D,2,D]),tf.reshape(REBA,[D,1,1])),[0,2,1],name=\"nA\")\n",
    "    ABnB = tf.transpose(tf.multiply(tf.reshape(V[:,:D],[D,2,D]),tf.reshape(REBA,[D,1,1])),[2,0,1],name=\"nB\")\n",
    "    SupdateAB = tf.assign(sEAB,ABnEAB/tf.norm(ABnEAB)),tf.assign(sA,ABnA/tf.norm(ABnA)),tf.assign(sB,ABnB/tf.norm(ABnB))\n",
    "    with tf.control_dependencies(SupdateAB):\n",
    "        updateAB = tf.assign(A,sA),tf.assign(B,sB),tf.assign(EAB,sEAB)\n",
    "\n",
    "with tf.name_scope(\"updateBA\"):\n",
    "    S, U, V = tf.svd(tf.reshape(tf.transpose(HBA,[0,2,1,3]),[2*D,2*D]))\n",
    "    BAnEBA = tf.sqrt(S[:D],name=\"nE\")\n",
    "    BAnB = tf.transpose(tf.multiply(tf.reshape(U[:,:D],[D,2,D]),tf.reshape(REAB,[D,1,1])),[0,2,1],name=\"nB\")\n",
    "    BAnA = tf.transpose(tf.multiply(tf.reshape(V[:,:D],[D,2,D]),tf.reshape(REAB,[D,1,1])),[2,0,1],name=\"nA\")\n",
    "    SupdateBA = tf.assign(sEBA,BAnEBA/tf.norm(BAnEBA)),tf.assign(sB,BAnB/tf.norm(BAnB)),tf.assign(sA,BAnA/tf.norm(BAnA))\n",
    "    with tf.control_dependencies(SupdateBA):\n",
    "        updateBA = tf.assign(B,sB),tf.assign(A,sA),tf.assign(EBA,sEBA)"
   ]
  },
  {
   "cell_type": "code",
   "execution_count": 7,
   "metadata": {},
   "outputs": [],
   "source": [
    "with tf.name_scope(\"updateL\"):\n",
    "    SupdateL = tf.assign(sL,LAB/tf.norm(LAB))\n",
    "    with tf.control_dependencies((SupdateL,)):\n",
    "        updateL = tf.assign(L,sL)\n",
    "        \n",
    "with tf.name_scope(\"updateR\"):\n",
    "    SupdateR = tf.assign(sR,ABR/tf.norm(ABR))\n",
    "    with tf.control_dependencies((SupdateR,)):\n",
    "        updateR = tf.assign(R,sR)"
   ]
  },
  {
   "cell_type": "code",
   "execution_count": 8,
   "metadata": {},
   "outputs": [],
   "source": [
    "with tf.name_scope(\"Energy\"):\n",
    "    LA = tf.tensordot(L,A,[[0],[0]])\n",
    "    LAE = tf.multiply(LA,tf.reshape(EAB*EAB,[1,D,1]))\n",
    "    LAEB = tf.tensordot(LAE,B,[[1],[0]])\n",
    "    LAEBR = tf.tensordot(LAEB,R,[[2],[0]])\n",
    "    LAEBRA = tf.tensordot(LAEBR,A,[[0],[0]])\n",
    "    LAEBRAE = tf.multiply(LAEBRA,tf.reshape(EAB*EAB,[1,1,1,D,1]))\n",
    "    LAEBRAEB = tf.tensordot(LAEBRAE,B,[[3,2],[0,1]])\n",
    "    E_AB = tf.tensordot(LAEBRAEB,H,[[0,1,2,3],[0,1,2,3]])/tf.tensordot(LAEBRAEB,I,[[0,1,2,3],[0,1,2,3]])\n",
    "\n",
    "    LAEBE = tf.multiply(LAEB,tf.reshape(EBA*EBA,[1,1,D,1]))\n",
    "    LAEBEA = tf.tensordot(LAEBE,A,[[2],[0]])\n",
    "    LAEBEAE = tf.multiply(LAEBEA,tf.reshape(EAB*EAB,[1,1,1,D,1]))\n",
    "    LAEBEAEA = tf.tensordot(LAEBEAE,A,[[0,1],[0,2]])\n",
    "    LAEBEAEAE = tf.multiply(LAEBEAEA,tf.reshape(EAB*EAB,[1,1,1,D]))\n",
    "    LAEBEAEAEB = tf.tensordot(LAEBEAEAE,B,[[3],[0]])\n",
    "    LAEBEAEAEBE = tf.multiply(LAEBEAEAEB,tf.reshape(EBA*EBA,[1,1,1,D,1]))\n",
    "    LAEBEAEAEBEA = tf.tensordot(LAEBEAEAEBE,A,[[3],[0]])\n",
    "    LAEBEAEAEBEAE = tf.multiply(LAEBEAEAEBEA,tf.reshape(EAB*EAB,[1,1,1,1,D,1]))\n",
    "    LAEBEAEAEBEAEB = tf.tensordot(LAEBEAEAEBEAE,B,[[4],[0]])\n",
    "    LAEBEAEAEBEAEBB = tf.tensordot(LAEBEAEAEBEAEB,B,[[1,6],[0,2]])\n",
    "    LAEBEAEAEBEAEBBR = tf.tensordot(LAEBEAEAEBEAEBB,R,[[5,4],[0,1]])\n",
    "    E_BA = tf.tensordot(LAEBEAEAEBEAEBBR,H,[[0,1,2,3],[0,1,2,3]])/tf.tensordot(LAEBEAEAEBEAEBBR,I,[[0,1,2,3],[0,1,2,3]])\n",
    "\n",
    "    E = (E_AB+E_BA)/2\n",
    "\n",
    "    tf.summary.scalar('E', E)"
   ]
  },
  {
   "cell_type": "code",
   "execution_count": null,
   "metadata": {},
   "outputs": [],
   "source": [
    "config = tf.ConfigProto()\n",
    "#config.graph_options.optimizer_options.global_jit_level=tf.OptimizerOptions.ON_2\n",
    "#config.log_device_placement=True\n",
    "config.device_count[\"CPU\"]=8\n",
    "config.device_count[\"GPU\"]=1\n",
    "\n",
    "sess = tf.Session(config=config)\n",
    "sess.run(init)\n",
    "merged = tf.summary.merge_all()\n",
    "logger = tf.summary.FileWriter('/tmp/data/%d'%D,sess.graph)\n",
    "tt = 0"
   ]
  },
  {
   "cell_type": "code",
   "execution_count": null,
   "metadata": {},
   "outputs": [],
   "source": [
    "ep = 0.1\n",
    "for i in xrange(1):\n",
    "    for j in xrange(1000):\n",
    "        sess.run(updateAB,feed_dict={t: -4*ep})\n",
    "        sess.run(updateBA,feed_dict={t: -4*ep})\n",
    "        sess.run(updateBA,feed_dict={t: -4*ep})\n",
    "        sess.run(updateAB,feed_dict={t: -4*ep})\n",
    "        #for j in xrange(100):\n",
    "        sess.run((updateL,updateR))\n",
    "        logger.add_summary(sess.run(merged), tt)\n",
    "        tt += 1\n",
    "\n",
    "logger.flush()\n",
    "print sess.run(E)"
   ]
  },
  {
   "cell_type": "code",
   "execution_count": null,
   "metadata": {
    "collapsed": true
   },
   "outputs": [],
   "source": []
  }
 ],
 "metadata": {
  "kernelspec": {
   "display_name": "Python 2",
   "language": "python",
   "name": "python2"
  },
  "language_info": {
   "codemirror_mode": {
    "name": "ipython",
    "version": 2
   },
   "file_extension": ".py",
   "mimetype": "text/x-python",
   "name": "python",
   "nbconvert_exporter": "python",
   "pygments_lexer": "ipython2",
   "version": "2.7.13"
  }
 },
 "nbformat": 4,
 "nbformat_minor": 2
}
